{
 "cells": [
  {
   "attachments": {},
   "cell_type": "markdown",
   "metadata": {},
   "source": [
    "## **<div style=\"color: purple\"> Parent Class </div>**"
   ]
  },
  {
   "cell_type": "code",
   "execution_count": 1,
   "metadata": {},
   "outputs": [],
   "source": [
    "from abc import ABC, abstractmethod\n",
    "\n",
    "class Human(ABC):\n",
    "    def __init__(self, name, age, gender, occupation, nationality):\n",
    "        self.name = name\n",
    "        self.age = age\n",
    "        self.gender = gender\n",
    "        self.occupation = occupation\n",
    "        self.nationality = nationality\n",
    "            \n",
    "    @abstractmethod\n",
    "    def speak(self):\n",
    "        pass\n",
    "    \n",
    "    @abstractmethod\n",
    "    def eat(self):\n",
    "        pass\n",
    "    \n",
    "    @abstractmethod\n",
    "    def sleep(self):\n",
    "        pass\n",
    "    \n",
    "    def walk(self):\n",
    "        print(f\"{self.name} is walking\")\n",
    "    \n",
    "    def work(self):\n",
    "        print(f\"{self.name} is working\")\n",
    "    \n",
    "    def study(self):\n",
    "        print(f\"{self.name} is studying\")\n",
    "\n",
    "        "
   ]
  },
  {
   "attachments": {},
   "cell_type": "markdown",
   "metadata": {},
   "source": [
    "## **<div style=\"color: yellow\"> SubClasses </div>**"
   ]
  },
  {
   "cell_type": "code",
   "execution_count": 3,
   "metadata": {},
   "outputs": [],
   "source": [
    "#1\n",
    "class Child(Human): #inheritance\n",
    "    def __init__(self, name, age, gender, height, nationality, parent_name, hobby):\n",
    "        super().__init__(name, age, gender, height, nationality)\n",
    "        self.parent_name = parent_name\n",
    "        self.hobby = hobby\n",
    "    \n",
    "    def play(self):\n",
    "        print(f\"{self.name} is playing with {self.parent_name}\")\n",
    "    \n",
    "    def go_to_school(self):\n",
    "        print(f\"{self.name} is going to school\")\n",
    "        \n",
    "    def speak(self):\n",
    "        print(f\"{self.name} says: mommy, daddy\")\n",
    "    \n",
    "    def eat(self):\n",
    "        print(f\"{self.name} is eating a cookie\")\n",
    "    \n",
    "    def sleep(self):\n",
    "        print(f\"{self.name} is taking a nap\")\n",
    "        \n",
    "#2\n",
    "class Teenager(Human): #inheritance\n",
    "    def __init__(self, name, age, gender, height, nationality, school_name, weight):\n",
    "        super().__init__(name, age, gender, height, nationality)\n",
    "        self.school_name = school_name\n",
    "        self.weight = weight\n",
    "        \n",
    "    def mental_health(self, state):\n",
    "        print(f\"{self.name}'s mental health is {state}\")\n",
    "    \n",
    "    def hang_out(self, friend):\n",
    "        print(f\"{self.name} is hanging out with {friend}\")\n",
    "    \n",
    "    def study(self):\n",
    "        print(f\"{self.name} is studying at {self.school_name}\")\n",
    "        \n",
    "    def speak(self):\n",
    "        print(f\"{self.name} says: like, whatever\")\n",
    "    \n",
    "    def eat(self):\n",
    "        print(f\"{self.name} is eating a burger\")\n",
    "    \n",
    "    def sleep(self):\n",
    "        print(f\"{self.name} is sleeping on weekends\")\n",
    "        \n",
    "#3\n",
    "class Adult(Human):\n",
    "    def __init__(self, name, age, gender, height, nationality, Technology_usage, income):\n",
    "        super().__init__(name, age, gender, height, nationality)\n",
    "        self.Technology_usage = Technology_usage\n",
    "        self.income = income\n",
    "        \n",
    "    \n",
    "    def raise_income(self, income_raise):\n",
    "        self.income += income_raise\n",
    "        print(f\"New income is {self.income}\")\n",
    "    \n",
    "    def relax(self):\n",
    "        print(f\"{self.name} is relaxing after work\")\n",
    "        \n",
    "    def speak(self):\n",
    "        print(f\"{self.name} says: how can I help you?\")\n",
    "    \n",
    "    def eat(self):\n",
    "        print(f\"{self.name} is eating a salad\")\n",
    "    \n",
    "    def sleep(self):\n",
    "        print(f\"{self.name} is getting 7 hours of sleep\")"
   ]
  }
 ],
 "metadata": {
  "kernelspec": {
   "display_name": "Python 3",
   "language": "python",
   "name": "python3"
  },
  "language_info": {
   "codemirror_mode": {
    "name": "ipython",
    "version": 3
   },
   "file_extension": ".py",
   "mimetype": "text/x-python",
   "name": "python",
   "nbconvert_exporter": "python",
   "pygments_lexer": "ipython3",
   "version": "3.8.8"
  },
  "orig_nbformat": 4,
  "vscode": {
   "interpreter": {
    "hash": "26de051ba29f2982a8de78e945f0abaf191376122a1563185a90213a26c5da77"
   }
  }
 },
 "nbformat": 4,
 "nbformat_minor": 2
}
