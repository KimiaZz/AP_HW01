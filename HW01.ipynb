{
 "cells": [
  {
   "attachments": {},
   "cell_type": "markdown",
   "metadata": {},
   "source": [
    "## **<div style=\"color: purple\"> Parent Class </div>**"
   ]
  },
  {
   "cell_type": "code",
   "execution_count": null,
   "metadata": {},
   "outputs": [],
   "source": [
    "from abc import ABC, abstractmethod\n",
    "\n",
    "class Human(ABC):\n",
    "    def __init__(self, name, age, gender, occupation, nationality):\n",
    "        self.name = name\n",
    "        self.age = age\n",
    "        self.gender = gender\n",
    "        self.occupation = occupation\n",
    "        self.nationality = nationality\n",
    "            \n",
    "    @abstractmethod\n",
    "    def speak(self):\n",
    "        pass\n",
    "    \n",
    "    @abstractmethod\n",
    "    def eat(self):\n",
    "        pass\n",
    "    \n",
    "    @abstractmethod\n",
    "    def sleep(self):\n",
    "        pass\n",
    "    \n",
    "    def walk(self):\n",
    "        print(f\"{self.name} is walking\")\n",
    "    \n",
    "    def work(self):\n",
    "        print(f\"{self.name} is working\")\n",
    "    \n",
    "    def study(self):\n",
    "        print(f\"{self.name} is studying\")\n",
    "\n",
    "        "
   ]
  },
  {
   "attachments": {},
   "cell_type": "markdown",
   "metadata": {},
   "source": [
    "## **<div style=\"color: yellow\"> SubClasses </div>**"
   ]
  },
  {
   "cell_type": "code",
   "execution_count": null,
   "metadata": {},
   "outputs": [],
   "source": [
    "#1\n",
    "class Child(Human): #inheritance\n",
    "    def __init__(self, name, age, gender, height, nationality, parent_name, hobby):\n",
    "        super().__init__(name, age, gender, height, nationality)\n",
    "        self.parent_name = parent_name\n",
    "        self.hobby = hobby\n",
    "    \n",
    "    def play(self):\n",
    "        print(f\"{self.name} is playing with {self.parent_name}\")\n",
    "    \n",
    "    def go_to_school(self):\n",
    "        print(f\"{self.name} is going to school\")\n",
    "        \n",
    "    def speak(self):\n",
    "        print(f\"{self.name} says: mommy, daddy\")\n",
    "    \n",
    "    def eat(self):\n",
    "        print(f\"{self.name} is eating a cookie\")\n",
    "    \n",
    "    def sleep(self):\n",
    "        print(f\"{self.name} is taking a nap\")"
   ]
  }
 ],
 "metadata": {
  "kernelspec": {
   "display_name": "Python 3",
   "language": "python",
   "name": "python3"
  },
  "language_info": {
   "name": "python",
   "version": "3.10.0"
  },
  "orig_nbformat": 4,
  "vscode": {
   "interpreter": {
    "hash": "26de051ba29f2982a8de78e945f0abaf191376122a1563185a90213a26c5da77"
   }
  }
 },
 "nbformat": 4,
 "nbformat_minor": 2
}
